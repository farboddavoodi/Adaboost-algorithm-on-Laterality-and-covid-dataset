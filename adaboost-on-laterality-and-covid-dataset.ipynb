{
 "cells": [
  {
   "cell_type": "markdown",
   "metadata": {
    "id": "8XUqvWV7evQW"
   },
   "source": [
    "# **Data Import**"
   ]
  },
  {
   "cell_type": "code",
   "execution_count": 1,
   "metadata": {
    "colab": {
     "base_uri": "https://localhost:8080/"
    },
    "id": "F4DDCwpYucs8",
    "outputId": "8487cae1-a8c9-49c3-a580-b16c58370562"
   },
   "outputs": [],
   "source": [
    "import gzip\n",
    "import numpy as np\n",
    "import os\n",
    "import requests \n",
    "from sklearn.svm import SVC, LinearSVC\n",
    "import pandas as pd\n",
    "from sklearn.metrics import confusion_matrix\n",
    "import sklearn.metrics as metrics\n",
    "from sklearn.decomposition import PCA\n",
    "from sklearn.tree import DecisionTreeClassifier\n",
    "from sklearn.multiclass import OneVsRestClassifier\n",
    "from sklearn.metrics import precision_score\n",
    "from sklearn.metrics import recall_score\n",
    "from sklearn.metrics import f1_score\n",
    "from sklearn.metrics import roc_curve\n",
    "from sklearn.preprocessing import label_binarize\n",
    "from sklearn.metrics import auc\n",
    "import matplotlib.pyplot as plt\n",
    "from scipy import interp\n",
    "from itertools import cycle\n",
    "from sklearn.svm import LinearSVC\n",
    "from sklearn.pipeline import make_pipeline\n",
    "from sklearn.preprocessing import StandardScaler\n",
    "from sklearn.datasets import make_classification\n",
    "from sklearn.model_selection import KFold\n",
    "from sklearn.model_selection import cross_val_score\n",
    "from sklearn.ensemble import AdaBoostClassifier\n",
    "from sklearn.model_selection import train_test_split\n",
    "from sklearn import preprocessing\n",
    "from sklearn.preprocessing import LabelEncoder\n",
    "from sklearn.preprocessing import StandardScaler\n",
    "import pandas as pd"
   ]
  },
  {
   "cell_type": "code",
   "execution_count": 14,
   "metadata": {},
   "outputs": [],
   "source": [
    "# Decision stump used as weak classifier\n",
    "class DecisionStump:\n",
    "    def __init__(self):\n",
    "        self.polarity = 1\n",
    "        self.feature_idx = None\n",
    "        self.threshold = None\n",
    "        self.alpha = None\n",
    "    def predict(self, X):\n",
    "        n_samples = X.shape[0]\n",
    "        X_column = X[:, self.feature_idx]\n",
    "        predictions = np.ones(n_samples)\n",
    "        if self.polarity == 1:\n",
    "            predictions[X_column < self.threshold] = -1\n",
    "        else:\n",
    "            predictions[X_column > self.threshold] = -1\n",
    "        return predictions\n",
    "class AdaBoostClassifier():\n",
    "    def __init__(self, n_clf=5):\n",
    "        self.n_clf = n_clf\n",
    "        self.clfs = []\n",
    "    def fit(self, X, y):\n",
    "        n_samples, n_features = X.shape\n",
    "        # Initialize weights to 1/N\n",
    "        w = np.full(n_samples, (1 / n_samples))\n",
    "        self.clfs = []\n",
    "        # Iterate through classifiers\n",
    "        for _ in range(self.n_clf):\n",
    "            clf = DecisionStump()\n",
    "            min_error = float(\"inf\")\n",
    "            # greedy search to find best threshold and feature\n",
    "            for feature_i in range(n_features):\n",
    "                X_column = X[:, feature_i]\n",
    "                thresholds = np.unique(X_column)\n",
    "                for threshold in thresholds:\n",
    "                    # predict with polarity 1\n",
    "                    p = 1\n",
    "                    predictions = np.ones(n_samples)\n",
    "                    predictions[X_column < threshold] = -1\n",
    "                    # Error = sum of weights of misclassified samples\n",
    "                    misclassified = w[y != predictions]\n",
    "                    error = sum(misclassified)\n",
    "                    if error > 0.5:\n",
    "                        error = 1 - error\n",
    "                        p = -1\n",
    "                    # store the best configuration\n",
    "                    if error < min_error:\n",
    "                        clf.polarity = p\n",
    "                        clf.threshold = threshold\n",
    "                        clf.feature_idx = feature_i\n",
    "                        min_error = error\n",
    "            # calculate alpha\n",
    "            EPS = 1e-10\n",
    "            clf.alpha = 0.5 * np.log((1.0 - min_error + EPS) / (min_error + EPS))\n",
    "            # calculate predictions and update weights\n",
    "            predictions = clf.predict(X)\n",
    "            w *= np.exp(-clf.alpha * y * predictions)\n",
    "            # Normalize to one\n",
    "            w /= np.sum(w)\n",
    "            # Save classifier\n",
    "            self.clfs.append(clf)\n",
    "    def predict(self, X):\n",
    "        clf_preds = [clf.alpha * clf.predict(X) for clf in self.clfs]\n",
    "        y_pred = np.sum(clf_preds, axis=0)\n",
    "        y_pred = np.sign(y_pred)\n",
    "        return y_pred"
   ]
  },
  {
   "cell_type": "code",
   "execution_count": 2,
   "metadata": {},
   "outputs": [],
   "source": [
    "df = pd.read_csv('Laterality.csv')\n",
    "X= df.drop(['Overall_Laterality_NO'], axis=1, inplace=False)\n",
    "y=df['Overall_Laterality_NO']"
   ]
  },
  {
   "cell_type": "code",
   "execution_count": 3,
   "metadata": {},
   "outputs": [
    {
     "name": "stdout",
     "output_type": "stream",
     "text": [
      "Cross Validation Score for k=5: [1.  0.8 0.4 1.  1. ]\n",
      "Cross Validation Score for k=7: [1.         0.75       0.66666667 0.33333333 0.66666667 1.\n",
      " 1.        ]\n",
      "Accuracy: 0.5833333333333334\n",
      "confusion  [[7 0]\n",
      " [5 0]]\n",
      "Precision: 0.5833333333333334\n",
      "Recal : 0.5833333333333334\n",
      "f1 score   0.4298245614035088\n"
     ]
    }
   ],
   "source": [
    "X_train, X_test, y_train, y_test = train_test_split(X, y, test_size=0.33, random_state=42)\n",
    "encoder = LabelEncoder()\n",
    "categorical_features = X_train.columns.tolist()\n",
    "for each in categorical_features:\n",
    "    X_train[each] = encoder.fit_transform(X_train[each])\n",
    "test_cat_features = X_test.columns.tolist()\n",
    "for col in test_cat_features:\n",
    "    X_test[col] = encoder.fit_transform(X_test[col])\n",
    "# feature scaling\n",
    "scaler = StandardScaler()\n",
    "train = scaler.fit_transform(X_train)\n",
    "test = scaler.transform(X_test)\n",
    "clf = AdaBoostClassifier(n_estimators=100, random_state=0)\n",
    "clf.fit(X_train, y_train)\n",
    "y_pred = clf.predict(X_test)\n",
    "for k in [5,7]:# and 10\n",
    "    print('Cross Validation Score for k={}:'.format(k) , cross_val_score(clf, X_train, y_train, cv=k))\n",
    "print(\"Accuracy:\", metrics.accuracy_score(y_test, y_pred))\n",
    "#confusion matrix\n",
    "print('confusion ' , confusion_matrix(y_test, y_pred))\n",
    "#precision\n",
    "print('Precision:' ,  precision_score(y_test, y_pred, average='weighted', labels=np.unique(y_pred)))\n",
    "#recall\n",
    "print('Recal :' , recall_score(y_test, y_pred, average='weighted'))\n",
    "#f1 score\n",
    "print('f1 score  ' , f1_score(y_test,y_pred, average= 'weighted'))"
   ]
  },
  {
   "cell_type": "code",
   "execution_count": 4,
   "metadata": {
    "id": "K9cnU1gJJi-H"
   },
   "outputs": [],
   "source": [
    "df = pd.read_csv('COVID_Dataset.csv')\n",
    "X= df.drop(['Infection'], axis=1, inplace=False)\n",
    "y=df['Infection']"
   ]
  },
  {
   "cell_type": "code",
   "execution_count": 5,
   "metadata": {},
   "outputs": [
    {
     "name": "stdout",
     "output_type": "stream",
     "text": [
      "Accuracy: 0.7677651515151516\n",
      "confusion  [[15563  2002]\n",
      " [ 4129  4706]]\n",
      "Precision: 0.7606130693064311\n",
      "Recal : 0.7677651515151516\n",
      "f1 score   0.7585040640005539\n"
     ]
    }
   ],
   "source": [
    "from sklearn.ensemble import AdaBoostClassifier\n",
    "from sklearn.model_selection import train_test_split\n",
    "X_train, X_test, y_train, y_test = train_test_split(X, y, test_size=0.33, random_state=42)\n",
    "clf = AdaBoostClassifier(n_estimators=100, random_state=0)\n",
    "clf.fit(X, y)\n",
    "y_pred = clf.predict(X_test)\n",
    "print(\"Accuracy:\", metrics.accuracy_score(y_test, y_pred))\n",
    "#confusion matrix\n",
    "print('confusion ' , confusion_matrix(y_test, y_pred))\n",
    "#precision\n",
    "print('Precision:' ,  precision_score(y_test, y_pred, average='weighted'))\n",
    "#recall\n",
    "print('Recal :' , recall_score(y_test, y_pred, average='weighted'))\n",
    "#f1 score\n",
    "print('f1 score  ' , f1_score(y_test,y_pred, average= 'weighted'))"
   ]
  },
  {
   "cell_type": "code",
   "execution_count": 6,
   "metadata": {},
   "outputs": [
    {
     "name": "stdout",
     "output_type": "stream",
     "text": [
      "Accuracy: 1.0\n",
      "confusion  [[17565     0]\n",
      " [    0  8835]]\n",
      "Precision: 1.0\n",
      "Recal : 1.0\n",
      "f1 score   1.0\n"
     ]
    }
   ],
   "source": [
    "from sklearn.model_selection import cross_val_score\n",
    "from sklearn.tree import DecisionTreeClassifier\n",
    "X_train, X_test, y_train, y_test = train_test_split(X, y, test_size=0.33, random_state=42)\n",
    "clf = DecisionTreeClassifier(random_state=0)\n",
    "clf.fit(X, y)\n",
    "y_pred = clf.predict(X_test)\n",
    "print(\"Accuracy:\", metrics.accuracy_score(y_test, y_pred))\n",
    "#confusion matrix\n",
    "print('confusion ' , confusion_matrix(y_test, y_pred))\n",
    "#precision\n",
    "print('Precision:' ,  precision_score(y_test, y_pred, average='weighted'))\n",
    "#recall\n",
    "print('Recal :' , recall_score(y_test, y_pred, average='weighted'))\n",
    "#f1 score\n",
    "print('f1 score  ' , f1_score(y_test,y_pred, average= 'weighted'))"
   ]
  },
  {
   "cell_type": "markdown",
   "metadata": {
    "id": "aGC4N_Hc0NKI"
   },
   "source": [
    "## **AdaBoost , k = 5**"
   ]
  },
  {
   "cell_type": "code",
   "execution_count": 7,
   "metadata": {
    "id": "5xWxuSj8uDCs"
   },
   "outputs": [],
   "source": [
    "xtrain, xtest, ytrain, ytest = train_test_split(X, y, test_size=0.33, random_state=42)\n",
    "xconcat = [xtrain, xtest]\n",
    "yconcat = [ytrain, ytest]\n",
    "X = pd.concat(xconcat)\n",
    "y = pd.concat(yconcat)"
   ]
  },
  {
   "cell_type": "code",
   "execution_count": 8,
   "metadata": {
    "id": "G1VzMtyjuO_E"
   },
   "outputs": [],
   "source": [
    "k = 5\n",
    "kf = KFold(n_splits=k, random_state=None)\n",
    "model = OneVsRestClassifier(AdaBoostClassifier())"
   ]
  },
  {
   "cell_type": "code",
   "execution_count": 9,
   "metadata": {
    "colab": {
     "base_uri": "https://localhost:8080/"
    },
    "id": "0Qwie4k3uU6c",
    "outputId": "0fdb415c-7778-4a06-bc9a-ddc9727ef8da"
   },
   "outputs": [
    {
     "name": "stdout",
     "output_type": "stream",
     "text": [
      "accuracy of each fold - [0.7541875, 0.760375, 0.75325, 0.7574375, 0.7573125]\n",
      "Avg accuracy : 0.7565125\n"
     ]
    }
   ],
   "source": [
    "accuracyscore = []\n",
    "for train_index, test_index in kf.split(X):\n",
    "  xtrain , xtest = X.iloc[train_index,:],X.iloc[test_index,:]\n",
    "  ytrain , ytest = y.iloc[train_index] , y.iloc[test_index]\n",
    "  \n",
    "  model.fit(xtrain, ytrain)\n",
    "  predvalues = model.predict(xtest)\n",
    "  acc = metrics.accuracy_score(predvalues, ytest)\n",
    "  accuracyscore.append(acc)\n",
    "\n",
    "avg_accuracyscore = sum(accuracyscore)/k\n",
    "\n",
    "print('accuracy of each fold - {}'.format(accuracyscore))\n",
    "print('Avg accuracy : {}'.format(avg_accuracyscore))"
   ]
  },
  {
   "cell_type": "markdown",
   "metadata": {
    "id": "S62sMV4Q0bvX"
   },
   "source": [
    "## **AdaBoost , k = 7**"
   ]
  },
  {
   "cell_type": "code",
   "execution_count": 10,
   "metadata": {
    "id": "VaBFhFe1vMFx"
   },
   "outputs": [],
   "source": [
    "k = 7\n",
    "kf = KFold(n_splits=k, random_state=None)\n",
    "model = OneVsRestClassifier(AdaBoostClassifier())"
   ]
  },
  {
   "cell_type": "code",
   "execution_count": 11,
   "metadata": {
    "colab": {
     "base_uri": "https://localhost:8080/"
    },
    "id": "S_pgb3JqvOjN",
    "outputId": "d221a68c-c960-4bc0-ad44-c47d952dd921"
   },
   "outputs": [
    {
     "name": "stdout",
     "output_type": "stream",
     "text": [
      "accuracy of each fold - [0.7571091084084347, 0.7568466182518155, 0.7523842855892904, 0.7541342199667512, 0.7584879243962198, 0.7600630031501575, 0.7502625131256563]\n",
      "Avg accuracy : 0.7556125246983321\n"
     ]
    }
   ],
   "source": [
    "accuracyscore = []\n",
    "for train_index, test_index in kf.split(X):\n",
    "  xtrain , xtest = X.iloc[train_index,:],X.iloc[test_index,:]\n",
    "  ytrain , ytest = y.iloc[train_index] , y.iloc[test_index]\n",
    "  \n",
    "  model.fit(xtrain, ytrain)\n",
    "  predvalues = model.predict(xtest)\n",
    "  acc = metrics.accuracy_score(predvalues, ytest)\n",
    "  accuracyscore.append(acc)\n",
    "\n",
    "avg_accuracyscore = sum(accuracyscore)/k\n",
    "\n",
    "print('accuracy of each fold - {}'.format(accuracyscore))\n",
    "print('Avg accuracy : {}'.format(avg_accuracyscore))"
   ]
  },
  {
   "cell_type": "markdown",
   "metadata": {
    "id": "I1TuHMx10ilD"
   },
   "source": [
    "## **AdaBoost , k = 10**"
   ]
  },
  {
   "cell_type": "code",
   "execution_count": 12,
   "metadata": {
    "id": "pfh6MxLTvPbT"
   },
   "outputs": [],
   "source": [
    "k = 10\n",
    "kf = KFold(n_splits=k, random_state=None)\n",
    "model = OneVsRestClassifier(AdaBoostClassifier())"
   ]
  },
  {
   "cell_type": "code",
   "execution_count": 13,
   "metadata": {
    "colab": {
     "base_uri": "https://localhost:8080/"
    },
    "id": "g8JAO_lOvQWx",
    "outputId": "efa0222e-bb20-48e7-ccd3-fc1a9c643abd"
   },
   "outputs": [
    {
     "name": "stdout",
     "output_type": "stream",
     "text": [
      "accuracy of each fold - [0.75575, 0.75725, 0.759625, 0.759125, 0.749625, 0.755125, 0.755625, 0.76175, 0.758375, 0.746375]\n",
      "Avg accuracy : 0.7558625000000001\n"
     ]
    }
   ],
   "source": [
    "accuracyscore = []\n",
    "for train_index, test_index in kf.split(X):\n",
    "  xtrain , xtest = X.iloc[train_index,:],X.iloc[test_index,:]\n",
    "  ytrain , ytest = y.iloc[train_index] , y.iloc[test_index]\n",
    "  \n",
    "  model.fit(xtrain, ytrain)\n",
    "  predvalues = model.predict(xtest)\n",
    "  acc = metrics.accuracy_score(predvalues, ytest)\n",
    "  accuracyscore.append(acc)\n",
    "\n",
    "avg_accuracyscore = sum(accuracyscore)/k\n",
    "\n",
    "print('accuracy of each fold - {}'.format(accuracyscore))\n",
    "print('Avg accuracy : {}'.format(avg_accuracyscore))"
   ]
  }
 ],
 "metadata": {
  "accelerator": "GPU",
  "colab": {
   "collapsed_sections": [
    "-lNMWz18h2CA",
    "TuhkqmOMies5",
    "u2LitwaRcjKr",
    "IgwRLzVkb3_w",
    "b8FzsQhJc4Ju",
    "NwkSiHvkdekf",
    "6m0x7KsOGo0Q",
    "HpuvC_lqFtLu",
    "d4HsnKxBzQVX",
    "OBVYUL8czf_m",
    "x-0cBy_1zkbK",
    "aGC4N_Hc0NKI",
    "S62sMV4Q0bvX",
    "I1TuHMx10ilD"
   ],
   "name": "Mr_bizogh2.ipynb",
   "provenance": []
  },
  "kernelspec": {
   "display_name": "Python 3 (ipykernel)",
   "language": "python",
   "name": "python3"
  },
  "language_info": {
   "codemirror_mode": {
    "name": "ipython",
    "version": 3
   },
   "file_extension": ".py",
   "mimetype": "text/x-python",
   "name": "python",
   "nbconvert_exporter": "python",
   "pygments_lexer": "ipython3",
   "version": "3.9.12"
  }
 },
 "nbformat": 4,
 "nbformat_minor": 1
}
